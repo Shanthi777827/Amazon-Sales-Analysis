{
 "cells": [
  {
   "cell_type": "code",
   "execution_count": 70,
   "id": "15157066-c3a7-4268-8131-65f41e094131",
   "metadata": {
    "slideshow": {
     "slide_type": "slide"
    }
   },
   "outputs": [],
   "source": [
    "import pandas as pd\n",
    "import seaborn as sns\n",
    "import matplotlib.pyplot as plt\n"
   ]
  },
  {
   "cell_type": "code",
   "execution_count": null,
   "id": "7ec5267a",
   "metadata": {},
   "outputs": [],
   "source": [
    "# Load data "
   ]
  },
  {
   "cell_type": "code",
   "execution_count": 5,
   "id": "fcb6d84f-ab6f-4e23-9026-bbd01cd99f8d",
   "metadata": {
    "slideshow": {
     "slide_type": "subslide"
    }
   },
   "outputs": [],
   "source": [
    "Amason_sales_data = pd.read_csv(r\"C:\\Users\\steph\\OneDrive\\Documents\\Desktop\\Amazon sales data\\amazon_sales_data 2025.csv\")"
   ]
  },
  {
   "cell_type": "code",
   "execution_count": null,
   "id": "68d82d26",
   "metadata": {},
   "outputs": [],
   "source": [
    "# Show first few rows"
   ]
  },
  {
   "cell_type": "code",
   "execution_count": 7,
   "id": "08042d86-b193-4871-ab1b-690a3b31bd3d",
   "metadata": {
    "slideshow": {
     "slide_type": "fragment"
    }
   },
   "outputs": [
    {
     "data": {
      "text/html": [
       "<div>\n",
       "<style scoped>\n",
       "    .dataframe tbody tr th:only-of-type {\n",
       "        vertical-align: middle;\n",
       "    }\n",
       "\n",
       "    .dataframe tbody tr th {\n",
       "        vertical-align: top;\n",
       "    }\n",
       "\n",
       "    .dataframe thead th {\n",
       "        text-align: right;\n",
       "    }\n",
       "</style>\n",
       "<table border=\"1\" class=\"dataframe\">\n",
       "  <thead>\n",
       "    <tr style=\"text-align: right;\">\n",
       "      <th></th>\n",
       "      <th>Order ID</th>\n",
       "      <th>Date</th>\n",
       "      <th>Product</th>\n",
       "      <th>Category</th>\n",
       "      <th>Price</th>\n",
       "      <th>Quantity</th>\n",
       "      <th>Total Sales</th>\n",
       "      <th>Customer Name</th>\n",
       "      <th>Customer Location</th>\n",
       "      <th>Payment Method</th>\n",
       "      <th>Status</th>\n",
       "    </tr>\n",
       "  </thead>\n",
       "  <tbody>\n",
       "    <tr>\n",
       "      <th>0</th>\n",
       "      <td>ORD0001</td>\n",
       "      <td>14-03-2025</td>\n",
       "      <td>Running Shoes</td>\n",
       "      <td>Footwear</td>\n",
       "      <td>60</td>\n",
       "      <td>3</td>\n",
       "      <td>180</td>\n",
       "      <td>Emma Clark</td>\n",
       "      <td>New York</td>\n",
       "      <td>Debit Card</td>\n",
       "      <td>Cancelled</td>\n",
       "    </tr>\n",
       "    <tr>\n",
       "      <th>1</th>\n",
       "      <td>ORD0002</td>\n",
       "      <td>20-03-2025</td>\n",
       "      <td>Headphones</td>\n",
       "      <td>Electronics</td>\n",
       "      <td>100</td>\n",
       "      <td>4</td>\n",
       "      <td>400</td>\n",
       "      <td>Emily Johnson</td>\n",
       "      <td>San Francisco</td>\n",
       "      <td>Debit Card</td>\n",
       "      <td>Pending</td>\n",
       "    </tr>\n",
       "    <tr>\n",
       "      <th>2</th>\n",
       "      <td>ORD0003</td>\n",
       "      <td>15-02-2025</td>\n",
       "      <td>Running Shoes</td>\n",
       "      <td>Footwear</td>\n",
       "      <td>60</td>\n",
       "      <td>2</td>\n",
       "      <td>120</td>\n",
       "      <td>John Doe</td>\n",
       "      <td>Denver</td>\n",
       "      <td>Amazon Pay</td>\n",
       "      <td>Cancelled</td>\n",
       "    </tr>\n",
       "    <tr>\n",
       "      <th>3</th>\n",
       "      <td>ORD0004</td>\n",
       "      <td>19-02-2025</td>\n",
       "      <td>Running Shoes</td>\n",
       "      <td>Footwear</td>\n",
       "      <td>60</td>\n",
       "      <td>3</td>\n",
       "      <td>180</td>\n",
       "      <td>Olivia Wilson</td>\n",
       "      <td>Dallas</td>\n",
       "      <td>Credit Card</td>\n",
       "      <td>Pending</td>\n",
       "    </tr>\n",
       "    <tr>\n",
       "      <th>4</th>\n",
       "      <td>ORD0005</td>\n",
       "      <td>10-03-2025</td>\n",
       "      <td>Smartwatch</td>\n",
       "      <td>Electronics</td>\n",
       "      <td>150</td>\n",
       "      <td>3</td>\n",
       "      <td>450</td>\n",
       "      <td>Emma Clark</td>\n",
       "      <td>New York</td>\n",
       "      <td>Debit Card</td>\n",
       "      <td>Pending</td>\n",
       "    </tr>\n",
       "  </tbody>\n",
       "</table>\n",
       "</div>"
      ],
      "text/plain": [
       "  Order ID        Date        Product     Category  Price  Quantity  \\\n",
       "0  ORD0001  14-03-2025  Running Shoes     Footwear     60         3   \n",
       "1  ORD0002  20-03-2025     Headphones  Electronics    100         4   \n",
       "2  ORD0003  15-02-2025  Running Shoes     Footwear     60         2   \n",
       "3  ORD0004  19-02-2025  Running Shoes     Footwear     60         3   \n",
       "4  ORD0005  10-03-2025     Smartwatch  Electronics    150         3   \n",
       "\n",
       "   Total Sales  Customer Name Customer Location Payment Method     Status  \n",
       "0          180     Emma Clark          New York     Debit Card  Cancelled  \n",
       "1          400  Emily Johnson     San Francisco     Debit Card    Pending  \n",
       "2          120       John Doe            Denver     Amazon Pay  Cancelled  \n",
       "3          180  Olivia Wilson            Dallas    Credit Card    Pending  \n",
       "4          450     Emma Clark          New York     Debit Card    Pending  "
      ]
     },
     "execution_count": 7,
     "metadata": {},
     "output_type": "execute_result"
    }
   ],
   "source": [
    "Amason_sales_data.head()"
   ]
  },
  {
   "cell_type": "code",
   "execution_count": null,
   "id": "5983564d",
   "metadata": {},
   "outputs": [],
   "source": [
    "# Dataset Summary"
   ]
  },
  {
   "cell_type": "code",
   "execution_count": 9,
   "id": "19f05a8b-f455-4b5f-8d58-9ac617dea97c",
   "metadata": {
    "slideshow": {
     "slide_type": "fragment"
    }
   },
   "outputs": [
    {
     "name": "stdout",
     "output_type": "stream",
     "text": [
      "<class 'pandas.core.frame.DataFrame'>\n",
      "RangeIndex: 250 entries, 0 to 249\n",
      "Data columns (total 11 columns):\n",
      " #   Column             Non-Null Count  Dtype \n",
      "---  ------             --------------  ----- \n",
      " 0   Order ID           250 non-null    object\n",
      " 1   Date               250 non-null    object\n",
      " 2   Product            250 non-null    object\n",
      " 3   Category           250 non-null    object\n",
      " 4   Price              250 non-null    int64 \n",
      " 5   Quantity           250 non-null    int64 \n",
      " 6   Total Sales        250 non-null    int64 \n",
      " 7   Customer Name      250 non-null    object\n",
      " 8   Customer Location  250 non-null    object\n",
      " 9   Payment Method     250 non-null    object\n",
      " 10  Status             250 non-null    object\n",
      "dtypes: int64(3), object(8)\n",
      "memory usage: 21.6+ KB\n"
     ]
    }
   ],
   "source": [
    "Amason_sales_data.info()"
   ]
  },
  {
   "cell_type": "code",
   "execution_count": 11,
   "id": "cdd3377c-84f6-452e-b467-b39f9d8f9952",
   "metadata": {
    "slideshow": {
     "slide_type": "slide"
    }
   },
   "outputs": [],
   "source": [
    "## Checking the correct Date format"
   ]
  },
  {
   "cell_type": "code",
   "execution_count": 13,
   "id": "b752cba8-c67b-4aee-9483-64f37fe83af5",
   "metadata": {
    "slideshow": {
     "slide_type": "subslide"
    }
   },
   "outputs": [],
   "source": [
    "Amason_sales_data[\"Date\"] = pd.to_datetime(Amason_sales_data[\"Date\"],format=\"%d-%m-%Y\")"
   ]
  },
  {
   "cell_type": "code",
   "execution_count": 15,
   "id": "6690cf33-9020-4700-ab4b-ec9c8d7a4e65",
   "metadata": {
    "slideshow": {
     "slide_type": "subslide"
    }
   },
   "outputs": [],
   "source": [
    "## Rename Columns for Clarity"
   ]
  },
  {
   "cell_type": "code",
   "execution_count": 17,
   "id": "b51c2a4c-126c-4861-b826-5fa638acbfe7",
   "metadata": {
    "slideshow": {
     "slide_type": "subslide"
    }
   },
   "outputs": [],
   "source": [
    "Amason_sales_data.rename(columns={Amason_sales_data.columns[1]:\"Order_Date\"},inplace=True)"
   ]
  },
  {
   "cell_type": "code",
   "execution_count": 19,
   "id": "19df5d56-bff4-42ef-9bc3-337cc6ac943c",
   "metadata": {
    "slideshow": {
     "slide_type": "subslide"
    }
   },
   "outputs": [],
   "source": [
    "Amason_sales_data[\"Order_Date\"] = pd.to_datetime(Amason_sales_data[\"Order_Date\"],errors = \"coerce\")"
   ]
  },
  {
   "cell_type": "code",
   "execution_count": null,
   "id": "e600c86e",
   "metadata": {},
   "outputs": [],
   "source": [
    "# Converts string to datetime object. errors=\"coerce\" replaces invalid formats with NaT (null),\n",
    "# which is then dropped in step 1."
   ]
  },
  {
   "cell_type": "code",
   "execution_count": 21,
   "id": "14a63d46-e41b-4d7f-aaad-7af433c78514",
   "metadata": {
    "slideshow": {
     "slide_type": "subslide"
    }
   },
   "outputs": [
    {
     "data": {
      "text/plain": [
       "0   2025-03-14\n",
       "1   2025-03-20\n",
       "2   2025-02-15\n",
       "3   2025-02-19\n",
       "4   2025-03-10\n",
       "Name: Order_Date, dtype: datetime64[ns]"
      ]
     },
     "execution_count": 21,
     "metadata": {},
     "output_type": "execute_result"
    }
   ],
   "source": [
    "Amason_sales_data[\"Order_Date\"].head()"
   ]
  },
  {
   "cell_type": "code",
   "execution_count": null,
   "id": "94aa05dc",
   "metadata": {},
   "outputs": [],
   "source": [
    "#  Strip Whitespaces from All Object Columns\n",
    "# Why: Removes leading/trailing whitespace that may cause grouping errors or\n",
    "# mismatched filtering in Power BI.\n",
    "\n"
   ]
  },
  {
   "cell_type": "code",
   "execution_count": 27,
   "id": "f367f0ca-596a-4294-86bf-3dcc21621aa2",
   "metadata": {
    "slideshow": {
     "slide_type": "subslide"
    }
   },
   "outputs": [
    {
     "data": {
      "text/html": [
       "<div>\n",
       "<style scoped>\n",
       "    .dataframe tbody tr th:only-of-type {\n",
       "        vertical-align: middle;\n",
       "    }\n",
       "\n",
       "    .dataframe tbody tr th {\n",
       "        vertical-align: top;\n",
       "    }\n",
       "\n",
       "    .dataframe thead th {\n",
       "        text-align: right;\n",
       "    }\n",
       "</style>\n",
       "<table border=\"1\" class=\"dataframe\">\n",
       "  <thead>\n",
       "    <tr style=\"text-align: right;\">\n",
       "      <th></th>\n",
       "      <th>Order ID</th>\n",
       "      <th>Order_Date</th>\n",
       "      <th>Product</th>\n",
       "      <th>Category</th>\n",
       "      <th>Price</th>\n",
       "      <th>Quantity</th>\n",
       "      <th>Total Sales</th>\n",
       "      <th>Customer Name</th>\n",
       "      <th>Customer Location</th>\n",
       "      <th>Payment Method</th>\n",
       "      <th>Status</th>\n",
       "    </tr>\n",
       "  </thead>\n",
       "  <tbody>\n",
       "    <tr>\n",
       "      <th>0</th>\n",
       "      <td>ORD0001</td>\n",
       "      <td>2025-03-14</td>\n",
       "      <td>Running Shoes</td>\n",
       "      <td>Footwear</td>\n",
       "      <td>60</td>\n",
       "      <td>3</td>\n",
       "      <td>180</td>\n",
       "      <td>Emma Clark</td>\n",
       "      <td>New York</td>\n",
       "      <td>Debit Card</td>\n",
       "      <td>Cancelled</td>\n",
       "    </tr>\n",
       "    <tr>\n",
       "      <th>1</th>\n",
       "      <td>ORD0002</td>\n",
       "      <td>2025-03-20</td>\n",
       "      <td>Headphones</td>\n",
       "      <td>Electronics</td>\n",
       "      <td>100</td>\n",
       "      <td>4</td>\n",
       "      <td>400</td>\n",
       "      <td>Emily Johnson</td>\n",
       "      <td>San Francisco</td>\n",
       "      <td>Debit Card</td>\n",
       "      <td>Pending</td>\n",
       "    </tr>\n",
       "    <tr>\n",
       "      <th>2</th>\n",
       "      <td>ORD0003</td>\n",
       "      <td>2025-02-15</td>\n",
       "      <td>Running Shoes</td>\n",
       "      <td>Footwear</td>\n",
       "      <td>60</td>\n",
       "      <td>2</td>\n",
       "      <td>120</td>\n",
       "      <td>John Doe</td>\n",
       "      <td>Denver</td>\n",
       "      <td>Amazon Pay</td>\n",
       "      <td>Cancelled</td>\n",
       "    </tr>\n",
       "    <tr>\n",
       "      <th>3</th>\n",
       "      <td>ORD0004</td>\n",
       "      <td>2025-02-19</td>\n",
       "      <td>Running Shoes</td>\n",
       "      <td>Footwear</td>\n",
       "      <td>60</td>\n",
       "      <td>3</td>\n",
       "      <td>180</td>\n",
       "      <td>Olivia Wilson</td>\n",
       "      <td>Dallas</td>\n",
       "      <td>Credit Card</td>\n",
       "      <td>Pending</td>\n",
       "    </tr>\n",
       "    <tr>\n",
       "      <th>4</th>\n",
       "      <td>ORD0005</td>\n",
       "      <td>2025-03-10</td>\n",
       "      <td>Smartwatch</td>\n",
       "      <td>Electronics</td>\n",
       "      <td>150</td>\n",
       "      <td>3</td>\n",
       "      <td>450</td>\n",
       "      <td>Emma Clark</td>\n",
       "      <td>New York</td>\n",
       "      <td>Debit Card</td>\n",
       "      <td>Pending</td>\n",
       "    </tr>\n",
       "    <tr>\n",
       "      <th>...</th>\n",
       "      <td>...</td>\n",
       "      <td>...</td>\n",
       "      <td>...</td>\n",
       "      <td>...</td>\n",
       "      <td>...</td>\n",
       "      <td>...</td>\n",
       "      <td>...</td>\n",
       "      <td>...</td>\n",
       "      <td>...</td>\n",
       "      <td>...</td>\n",
       "      <td>...</td>\n",
       "    </tr>\n",
       "    <tr>\n",
       "      <th>245</th>\n",
       "      <td>ORD0246</td>\n",
       "      <td>2025-03-17</td>\n",
       "      <td>T-Shirt</td>\n",
       "      <td>Clothing</td>\n",
       "      <td>20</td>\n",
       "      <td>2</td>\n",
       "      <td>40</td>\n",
       "      <td>Daniel Harris</td>\n",
       "      <td>Miami</td>\n",
       "      <td>Debit Card</td>\n",
       "      <td>Cancelled</td>\n",
       "    </tr>\n",
       "    <tr>\n",
       "      <th>246</th>\n",
       "      <td>ORD0247</td>\n",
       "      <td>2025-03-30</td>\n",
       "      <td>Jeans</td>\n",
       "      <td>Clothing</td>\n",
       "      <td>40</td>\n",
       "      <td>1</td>\n",
       "      <td>40</td>\n",
       "      <td>Sophia Miller</td>\n",
       "      <td>Dallas</td>\n",
       "      <td>Debit Card</td>\n",
       "      <td>Cancelled</td>\n",
       "    </tr>\n",
       "    <tr>\n",
       "      <th>247</th>\n",
       "      <td>ORD0248</td>\n",
       "      <td>2025-03-05</td>\n",
       "      <td>T-Shirt</td>\n",
       "      <td>Clothing</td>\n",
       "      <td>20</td>\n",
       "      <td>2</td>\n",
       "      <td>40</td>\n",
       "      <td>Chris White</td>\n",
       "      <td>Denver</td>\n",
       "      <td>Debit Card</td>\n",
       "      <td>Cancelled</td>\n",
       "    </tr>\n",
       "    <tr>\n",
       "      <th>248</th>\n",
       "      <td>ORD0249</td>\n",
       "      <td>2025-03-08</td>\n",
       "      <td>Smartwatch</td>\n",
       "      <td>Electronics</td>\n",
       "      <td>150</td>\n",
       "      <td>3</td>\n",
       "      <td>450</td>\n",
       "      <td>Emily Johnson</td>\n",
       "      <td>New York</td>\n",
       "      <td>Debit Card</td>\n",
       "      <td>Cancelled</td>\n",
       "    </tr>\n",
       "    <tr>\n",
       "      <th>249</th>\n",
       "      <td>ORD0250</td>\n",
       "      <td>2025-02-19</td>\n",
       "      <td>Smartphone</td>\n",
       "      <td>Electronics</td>\n",
       "      <td>500</td>\n",
       "      <td>4</td>\n",
       "      <td>2000</td>\n",
       "      <td>Emily Johnson</td>\n",
       "      <td>Seattle</td>\n",
       "      <td>Amazon Pay</td>\n",
       "      <td>Completed</td>\n",
       "    </tr>\n",
       "  </tbody>\n",
       "</table>\n",
       "<p>250 rows × 11 columns</p>\n",
       "</div>"
      ],
      "text/plain": [
       "    Order ID Order_Date        Product     Category  Price  Quantity  \\\n",
       "0    ORD0001 2025-03-14  Running Shoes     Footwear     60         3   \n",
       "1    ORD0002 2025-03-20     Headphones  Electronics    100         4   \n",
       "2    ORD0003 2025-02-15  Running Shoes     Footwear     60         2   \n",
       "3    ORD0004 2025-02-19  Running Shoes     Footwear     60         3   \n",
       "4    ORD0005 2025-03-10     Smartwatch  Electronics    150         3   \n",
       "..       ...        ...            ...          ...    ...       ...   \n",
       "245  ORD0246 2025-03-17        T-Shirt     Clothing     20         2   \n",
       "246  ORD0247 2025-03-30          Jeans     Clothing     40         1   \n",
       "247  ORD0248 2025-03-05        T-Shirt     Clothing     20         2   \n",
       "248  ORD0249 2025-03-08     Smartwatch  Electronics    150         3   \n",
       "249  ORD0250 2025-02-19     Smartphone  Electronics    500         4   \n",
       "\n",
       "     Total Sales  Customer Name Customer Location Payment Method     Status  \n",
       "0            180     Emma Clark          New York     Debit Card  Cancelled  \n",
       "1            400  Emily Johnson     San Francisco     Debit Card    Pending  \n",
       "2            120       John Doe            Denver     Amazon Pay  Cancelled  \n",
       "3            180  Olivia Wilson            Dallas    Credit Card    Pending  \n",
       "4            450     Emma Clark          New York     Debit Card    Pending  \n",
       "..           ...            ...               ...            ...        ...  \n",
       "245           40  Daniel Harris             Miami     Debit Card  Cancelled  \n",
       "246           40  Sophia Miller            Dallas     Debit Card  Cancelled  \n",
       "247           40    Chris White            Denver     Debit Card  Cancelled  \n",
       "248          450  Emily Johnson          New York     Debit Card  Cancelled  \n",
       "249         2000  Emily Johnson           Seattle     Amazon Pay  Completed  \n",
       "\n",
       "[250 rows x 11 columns]"
      ]
     },
     "execution_count": 27,
     "metadata": {},
     "output_type": "execute_result"
    }
   ],
   "source": [
    "Amason_sales_data=Amason_sales_data.apply(lambda x:x.str.strip() if x.dtype== \"object\" else x)"
   ]
  },
  {
   "cell_type": "code",
   "execution_count": null,
   "id": "654e0cb6",
   "metadata": {},
   "outputs": [],
   "source": [
    "# Standardize Column Names\n",
    "# Result: Avoids syntax errors in Power BI and Python due to inconsistent or\n",
    "# space-containing column headers."
   ]
  },
  {
   "cell_type": "code",
   "execution_count": 29,
   "id": "f29ddcd2-115a-491a-8e4d-0db5eb8613c1",
   "metadata": {
    "slideshow": {
     "slide_type": "subslide"
    }
   },
   "outputs": [],
   "source": [
    "Amason_sales_data.columns = Amason_sales_data.columns.str.strip().str.replace(\" \",\"_\") # for column name "
   ]
  },
  {
   "cell_type": "code",
   "execution_count": 31,
   "id": "bfccf6be-067a-4ab8-bd48-4eea67aecc8b",
   "metadata": {
    "slideshow": {
     "slide_type": "subslide"
    }
   },
   "outputs": [
    {
     "data": {
      "text/plain": [
       "Index(['Order_ID', 'Order_Date', 'Product', 'Category', 'Price', 'Quantity',\n",
       "       'Total_Sales', 'Customer_Name', 'Customer_Location', 'Payment_Method',\n",
       "       'Status'],\n",
       "      dtype='object')"
      ]
     },
     "execution_count": 31,
     "metadata": {},
     "output_type": "execute_result"
    }
   ],
   "source": [
    "Amason_sales_data.columns"
   ]
  },
  {
   "cell_type": "code",
   "execution_count": null,
   "id": "45bb3110",
   "metadata": {},
   "outputs": [],
   "source": [
    "# Dropping Null/Empty Rows\n",
    "# Reason: These are essential columns for time series, sales aggregation, \n",
    "# and trend visualization. Missing values here would disrupt EDA and Power BI integration."
   ]
  },
  {
   "cell_type": "code",
   "execution_count": 33,
   "id": "0c20c2eb-7ee8-4fa3-a1cc-62384455311f",
   "metadata": {
    "slideshow": {
     "slide_type": "subslide"
    }
   },
   "outputs": [],
   "source": [
    "Amason_sales_data.dropna(subset=['Order_Date', 'Price', 'Quantity', 'Total_Sales'], inplace=True)\n"
   ]
  },
  {
   "cell_type": "code",
   "execution_count": 35,
   "id": "0227f27e-52ba-45a4-91d2-587cf237a3fe",
   "metadata": {
    "slideshow": {
     "slide_type": "subslide"
    }
   },
   "outputs": [],
   "source": [
    "Amason_sales_data.to_csv(\"cleaned_amazon_sales.csv\",index=False) # this cleaned data  for PowerBI Analysis "
   ]
  },
  {
   "cell_type": "code",
   "execution_count": 37,
   "id": "ff1c0132-e646-44c1-89de-afaa142ced18",
   "metadata": {
    "slideshow": {
     "slide_type": "slide"
    }
   },
   "outputs": [],
   "source": [
    "## Exploratory Data Analysis (EDA)"
   ]
  },
  {
   "cell_type": "code",
   "execution_count": 39,
   "id": "55cd401f-f6f4-43de-8f76-02bfff939c54",
   "metadata": {
    "slideshow": {
     "slide_type": "subslide"
    }
   },
   "outputs": [],
   "source": [
    "import pandas as pd"
   ]
  },
  {
   "cell_type": "code",
   "execution_count": 41,
   "id": "0cd8f535-e867-418f-9494-61a257474f7d",
   "metadata": {
    "slideshow": {
     "slide_type": "subslide"
    }
   },
   "outputs": [],
   "source": [
    "import matplotlib.pyplot as plt"
   ]
  },
  {
   "cell_type": "code",
   "execution_count": 42,
   "id": "a965a294-aae0-49b4-a54c-0bf4cc68e461",
   "metadata": {
    "slideshow": {
     "slide_type": "subslide"
    }
   },
   "outputs": [],
   "source": [
    "import seaborn as sns"
   ]
  },
  {
   "cell_type": "code",
   "execution_count": 43,
   "id": "61a8b300-7910-45ed-bdf6-c99f0f5c301f",
   "metadata": {
    "slideshow": {
     "slide_type": "subslide"
    }
   },
   "outputs": [],
   "source": [
    "## 1.best performing product categories"
   ]
  },
  {
   "cell_type": "code",
   "execution_count": 44,
   "id": "6d5753e8-f8b4-4c96-8f01-6f19c0cd5dc7",
   "metadata": {
    "slideshow": {
     "slide_type": "subslide"
    }
   },
   "outputs": [],
   "source": [
    "best_product_categories = Amason_sales_data.groupby(\"Category\")[[\"Total_Sales\"]].sum().sort_values(by = \"Total_Sales\",ascending=False)"
   ]
  },
  {
   "cell_type": "code",
   "execution_count": 45,
   "id": "d4b293a6-42b1-4a6e-962f-7574125fecd5",
   "metadata": {
    "slideshow": {
     "slide_type": "subslide"
    }
   },
   "outputs": [
    {
     "data": {
      "text/html": [
       "<div>\n",
       "<style scoped>\n",
       "    .dataframe tbody tr th:only-of-type {\n",
       "        vertical-align: middle;\n",
       "    }\n",
       "\n",
       "    .dataframe tbody tr th {\n",
       "        vertical-align: top;\n",
       "    }\n",
       "\n",
       "    .dataframe thead th {\n",
       "        text-align: right;\n",
       "    }\n",
       "</style>\n",
       "<table border=\"1\" class=\"dataframe\">\n",
       "  <thead>\n",
       "    <tr style=\"text-align: right;\">\n",
       "      <th></th>\n",
       "      <th>Total_Sales</th>\n",
       "    </tr>\n",
       "    <tr>\n",
       "      <th>Category</th>\n",
       "      <th></th>\n",
       "    </tr>\n",
       "  </thead>\n",
       "  <tbody>\n",
       "    <tr>\n",
       "      <th>Electronics</th>\n",
       "      <td>129950</td>\n",
       "    </tr>\n",
       "    <tr>\n",
       "      <th>Home Appliances</th>\n",
       "      <td>105000</td>\n",
       "    </tr>\n",
       "    <tr>\n",
       "      <th>Footwear</th>\n",
       "      <td>4320</td>\n",
       "    </tr>\n",
       "    <tr>\n",
       "      <th>Clothing</th>\n",
       "      <td>3540</td>\n",
       "    </tr>\n",
       "    <tr>\n",
       "      <th>Books</th>\n",
       "      <td>1035</td>\n",
       "    </tr>\n",
       "  </tbody>\n",
       "</table>\n",
       "</div>"
      ],
      "text/plain": [
       "                 Total_Sales\n",
       "Category                    \n",
       "Electronics           129950\n",
       "Home Appliances       105000\n",
       "Footwear                4320\n",
       "Clothing                3540\n",
       "Books                   1035"
      ]
     },
     "execution_count": 45,
     "metadata": {},
     "output_type": "execute_result"
    }
   ],
   "source": [
    "best_product_categories"
   ]
  },
  {
   "cell_type": "code",
   "execution_count": 47,
   "id": "0c91893b-4dc3-47ff-b425-ec410ccbc964",
   "metadata": {
    "slideshow": {
     "slide_type": "subslide"
    }
   },
   "outputs": [
    {
     "data": {
      "image/png": "[encoded data removed]",
      "text/plain": [
       "<Figure size 800x500 with 1 Axes>"
      ]
     },
     "metadata": {},
     "output_type": "display_data"
    }
   ],
   "source": [
    "best_product_categories.plot(kind = \"bar\",color =\"Red\",figsize=(8,5))\n",
    "plt.xlabel(\"Category\")\n",
    "plt.ylabel(\"Total_Sales\")\n",
    "plt.title(\"Best Product Categories by Total Sales\")\n",
    "plt.tight_layout()\n",
    "plt.show()"
   ]
  },
  {
   "cell_type": "code",
   "execution_count": 48,
   "id": "eb9f2bb2-64f3-416a-a848-8472731a8ef8",
   "metadata": {
    "slideshow": {
     "slide_type": "slide"
    }
   },
   "outputs": [],
   "source": [
    "## 2.Sales Trend Over Time"
   ]
  },
  {
   "cell_type": "code",
   "execution_count": 49,
   "id": "387c2608-49ed-48d9-a101-f8b6ad107da1",
   "metadata": {
    "slideshow": {
     "slide_type": "subslide"
    }
   },
   "outputs": [],
   "source": [
    "daily_sales = Amason_sales_data.groupby(\"Order_Date\")[\"Total_Sales\"].sum().sort_index()"
   ]
  },
  {
   "cell_type": "code",
   "execution_count": 50,
   "id": "d6949bda-56a6-4b14-b91a-3417dbf49720",
   "metadata": {
    "slideshow": {
     "slide_type": "subslide"
    }
   },
   "outputs": [
    {
     "data": {
      "text/plain": [
       "Order_Date\n",
       "2025-02-02     3600\n",
       "2025-02-03     3360\n",
       "2025-02-04     6815\n",
       "2025-02-05     5400\n",
       "2025-02-06    11400\n",
       "2025-02-07     2520\n",
       "2025-02-08     1640\n",
       "2025-02-09     3550\n",
       "2025-02-10    10965\n",
       "2025-02-11     3550\n",
       "2025-02-12     3560\n",
       "2025-02-13     4860\n",
       "2025-02-14     1015\n",
       "2025-02-15      520\n",
       "2025-02-16     9540\n",
       "2025-02-17     1005\n",
       "2025-02-18     8810\n",
       "2025-02-19     2195\n",
       "2025-02-20     6730\n",
       "2025-02-21     4600\n",
       "2025-02-22     1800\n",
       "2025-02-23     2570\n",
       "2025-02-24     6900\n",
       "2025-02-25     6300\n",
       "2025-02-26     1980\n",
       "2025-02-27      300\n",
       "2025-02-28     7210\n",
       "2025-03-01     1800\n",
       "2025-03-02     4575\n",
       "2025-03-03      120\n",
       "2025-03-04     5900\n",
       "2025-03-05     2900\n",
       "2025-03-06     9720\n",
       "2025-03-07     8660\n",
       "2025-03-08     3125\n",
       "2025-03-09      200\n",
       "2025-03-10     3965\n",
       "2025-03-11     1240\n",
       "2025-03-12      710\n",
       "2025-03-13     4160\n",
       "2025-03-14     4350\n",
       "2025-03-15     7190\n",
       "2025-03-16     2735\n",
       "2025-03-17      540\n",
       "2025-03-18     3700\n",
       "2025-03-19     4115\n",
       "2025-03-20     3630\n",
       "2025-03-21     1960\n",
       "2025-03-22      950\n",
       "2025-03-23     3900\n",
       "2025-03-24     9520\n",
       "2025-03-25     6015\n",
       "2025-03-26     2970\n",
       "2025-03-27       15\n",
       "2025-03-28     2400\n",
       "2025-03-29     2600\n",
       "2025-03-30     7465\n",
       "2025-03-31     6600\n",
       "2025-04-01      320\n",
       "2025-04-02     3100\n",
       "Name: Total_Sales, dtype: int64"
      ]
     },
     "execution_count": 50,
     "metadata": {},
     "output_type": "execute_result"
    }
   ],
   "source": [
    "daily_sales "
   ]
  },
  {
   "cell_type": "code",
   "execution_count": 51,
   "id": "295396fe-82ce-4ac1-ab67-415310a1c2cc",
   "metadata": {
    "scrolled": true
   },
   "outputs": [
    {
     "data": {
      "image/png": "[encoded data removed]",
      "text/plain": [
       "<Figure size 800x500 with 1 Axes>"
      ]
     },
     "metadata": {},
     "output_type": "display_data"
    }
   ],
   "source": [
    "daily_sales.plot(kind = \"line\",color = \"Green\",figsize= (8,5))\n",
    "plt.xlabel(\"Order_Date\")\n",
    "plt.ylabel(\"Total_Sales\")\n",
    "plt.title(\"Sales Trend Over Time\")\n",
    "plt.tight_layout()\n",
    "plt.show()"
   ]
  },
  {
   "cell_type": "code",
   "execution_count": 52,
   "id": "24db0efc-1d53-46b9-86c4-a7b86dc0270f",
   "metadata": {
    "slideshow": {
     "slide_type": "slide"
    }
   },
   "outputs": [],
   "source": [
    "## 3.Sales By location"
   ]
  },
  {
   "cell_type": "code",
   "execution_count": 55,
   "id": "d68d9744-d377-439b-8594-d11c89a1cc96",
   "metadata": {
    "scrolled": true,
    "slideshow": {
     "slide_type": "subslide"
    }
   },
   "outputs": [
    {
     "data": {
      "text/plain": [
       "Index(['Order_ID', 'Order_Date', 'Product', 'Category', 'Price', 'Quantity',\n",
       "       'Total_Sales', 'Customer_Name', 'Customer_Location', 'Payment_Method',\n",
       "       'Status'],\n",
       "      dtype='object')"
      ]
     },
     "execution_count": 55,
     "metadata": {},
     "output_type": "execute_result"
    }
   ],
   "source": [
    " Amason_sales_data.columns"
   ]
  },
  {
   "cell_type": "code",
   "execution_count": 73,
   "id": "bbb2b9b0-0a02-4d25-9b81-a56c9459c13b",
   "metadata": {
    "slideshow": {
     "slide_type": "subslide"
    }
   },
   "outputs": [],
   "source": [
    "sales_location =  Amason_sales_data.groupby(\"Customer_Location\")[[\"Total_Sales\"]].sum().sort_values(\"Total_Sales\",ascending=False)"
   ]
  },
  {
   "cell_type": "code",
   "execution_count": 75,
   "id": "b4dece88-09b6-4d01-ab6f-62d5d703011c",
   "metadata": {},
   "outputs": [
    {
     "data": {
      "text/html": [
       "<div>\n",
       "<style scoped>\n",
       "    .dataframe tbody tr th:only-of-type {\n",
       "        vertical-align: middle;\n",
       "    }\n",
       "\n",
       "    .dataframe tbody tr th {\n",
       "        vertical-align: top;\n",
       "    }\n",
       "\n",
       "    .dataframe thead th {\n",
       "        text-align: right;\n",
       "    }\n",
       "</style>\n",
       "<table border=\"1\" class=\"dataframe\">\n",
       "  <thead>\n",
       "    <tr style=\"text-align: right;\">\n",
       "      <th></th>\n",
       "      <th>Total_Sales</th>\n",
       "    </tr>\n",
       "    <tr>\n",
       "      <th>Customer_Location</th>\n",
       "      <th></th>\n",
       "    </tr>\n",
       "  </thead>\n",
       "  <tbody>\n",
       "    <tr>\n",
       "      <th>Miami</th>\n",
       "      <td>31700</td>\n",
       "    </tr>\n",
       "    <tr>\n",
       "      <th>Denver</th>\n",
       "      <td>29785</td>\n",
       "    </tr>\n",
       "    <tr>\n",
       "      <th>Houston</th>\n",
       "      <td>28390</td>\n",
       "    </tr>\n",
       "    <tr>\n",
       "      <th>Dallas</th>\n",
       "      <td>27145</td>\n",
       "    </tr>\n",
       "    <tr>\n",
       "      <th>Seattle</th>\n",
       "      <td>26890</td>\n",
       "    </tr>\n",
       "    <tr>\n",
       "      <th>Boston</th>\n",
       "      <td>26170</td>\n",
       "    </tr>\n",
       "    <tr>\n",
       "      <th>Chicago</th>\n",
       "      <td>20810</td>\n",
       "    </tr>\n",
       "    <tr>\n",
       "      <th>New York</th>\n",
       "      <td>18940</td>\n",
       "    </tr>\n",
       "    <tr>\n",
       "      <th>Los Angeles</th>\n",
       "      <td>17820</td>\n",
       "    </tr>\n",
       "    <tr>\n",
       "      <th>San Francisco</th>\n",
       "      <td>16195</td>\n",
       "    </tr>\n",
       "  </tbody>\n",
       "</table>\n",
       "</div>"
      ],
      "text/plain": [
       "                   Total_Sales\n",
       "Customer_Location             \n",
       "Miami                    31700\n",
       "Denver                   29785\n",
       "Houston                  28390\n",
       "Dallas                   27145\n",
       "Seattle                  26890\n",
       "Boston                   26170\n",
       "Chicago                  20810\n",
       "New York                 18940\n",
       "Los Angeles              17820\n",
       "San Francisco            16195"
      ]
     },
     "execution_count": 75,
     "metadata": {},
     "output_type": "execute_result"
    }
   ],
   "source": [
    "sales_location"
   ]
  },
  {
   "cell_type": "code",
   "execution_count": 101,
   "id": "8ffc2072-c298-435c-9aef-0e2c700856df",
   "metadata": {
    "slideshow": {
     "slide_type": "subslide"
    }
   },
   "outputs": [
    {
     "data": {
      "image/png": "[encoded data removed]",
      "text/plain": [
       "<Figure size 800x500 with 1 Axes>"
      ]
     },
     "metadata": {},
     "output_type": "display_data"
    }
   ],
   "source": [
    "sales_location.plot(kind = \"bar\",color = \"salmon\",figsize=(8,5))\n",
    "plt.xlabel(\"Customer_location\")\n",
    "plt.title(\"Sales BY Customer Location\")\n",
    "plt.ylabel(\"Total_Sales\")\n",
    "plt.tight_layout()\n",
    "plt.show()"
   ]
  },
  {
   "cell_type": "code",
   "execution_count": null,
   "id": "dffa36fd",
   "metadata": {},
   "outputs": [],
   "source": [
    "## 4.Top Products by Sales:"
   ]
  },
  {
   "cell_type": "code",
   "execution_count": 71,
   "id": "cb4db5fe",
   "metadata": {},
   "outputs": [
    {
     "data": {
      "image/png": "[encoded data removed]",
      "text/plain": [
       "<Figure size 640x480 with 1 Axes>"
      ]
     },
     "metadata": {},
     "output_type": "display_data"
    }
   ],
   "source": [
    "top_products = Amason_sales_data.groupby(\"Product\")[\"Total_Sales\"].sum().sort_values(ascending=False).head(10)\n",
    "top_products.plot(kind=\"barh\", color=\"orange\")\n",
    "plt.title(\"Top 10 Best-Selling Products\")\n",
    "plt.xlabel(\"Total Sales\")\n",
    "plt.tight_layout()\n",
    "plt.show()"
   ]
  },
  {
   "cell_type": "code",
   "execution_count": null,
   "id": "fa001b93",
   "metadata": {},
   "outputs": [],
   "source": [
    "# 5.Payment Method Preference:\n"
   ]
  },
  {
   "cell_type": "code",
   "execution_count": 72,
   "id": "468cc221",
   "metadata": {},
   "outputs": [
    {
     "data": {
      "image/png": "[encoded data removed]",
      "text/plain": [
       "<Figure size 600x600 with 1 Axes>"
      ]
     },
     "metadata": {},
     "output_type": "display_data"
    }
   ],
   "source": [
    "Amason_sales_data[\"Payment_Method\"].value_counts().plot(kind=\"pie\", autopct='%1.1f%%', figsize=(6,6))\n",
    "plt.title(\"Payment Method Distribution\")\n",
    "plt.ylabel(\"\")\n",
    "plt.show()"
   ]
  },
  {
   "cell_type": "code",
   "execution_count": null,
   "id": "2abee9a2",
   "metadata": {},
   "outputs": [],
   "source": [
    "# 6.Order Status Breakdown:"
   ]
  },
  {
   "cell_type": "code",
   "execution_count": 73,
   "id": "176be20a",
   "metadata": {},
   "outputs": [],
   "source": [
    "import seaborn as sns"
   ]
  },
  {
   "cell_type": "code",
   "execution_count": 75,
   "id": "c9fb4595",
   "metadata": {},
   "outputs": [
    {
     "data": {
      "image/png": "[encoded data removed]",
      "text/plain": [
       "<Figure size 640x480 with 1 Axes>"
      ]
     },
     "metadata": {},
     "output_type": "display_data"
    }
   ],
   "source": [
    "sns.countplot(data=Amason_sales_data, x=\"Status\", hue=\"Status\", palette=\"Set2\", legend=False)\n",
    "plt.title(\"Order Status Count\")\n",
    "plt.show()"
   ]
  },
  {
   "cell_type": "code",
   "execution_count": null,
   "id": "169f8ecb-e441-4fce-8e12-6f96c6ae35de",
   "metadata": {
    "slideshow": {
     "slide_type": "slide"
    }
   },
   "outputs": [],
   "source": [
    "## 7.Order Status Distribution"
   ]
  },
  {
   "cell_type": "code",
   "execution_count": 103,
   "id": "2663e537-3a7e-48db-b461-3d6becf0d0e5",
   "metadata": {
    "slideshow": {
     "slide_type": "subslide"
    }
   },
   "outputs": [
    {
     "data": {
      "text/plain": [
       "Index(['Order_ID', 'Order_Date', 'Product', 'Category', 'Price', 'Quantity',\n",
       "       'Total_Sales', 'Customer_Name', 'Customer_Location', 'Payment_Method',\n",
       "       'Status'],\n",
       "      dtype='object')"
      ]
     },
     "execution_count": 103,
     "metadata": {},
     "output_type": "execute_result"
    }
   ],
   "source": [
    "Amason_sales_data.columns"
   ]
  },
  {
   "cell_type": "code",
   "execution_count": 105,
   "id": "74e66c3c-db63-4064-8eeb-2adc8dea5493",
   "metadata": {
    "slideshow": {
     "slide_type": "subslide"
    }
   },
   "outputs": [
    {
     "data": {
      "text/plain": [
       "Status\n",
       "Completed    88\n",
       "Pending      85\n",
       "Cancelled    77\n",
       "Name: count, dtype: int64"
      ]
     },
     "execution_count": 105,
     "metadata": {},
     "output_type": "execute_result"
    }
   ],
   "source": [
    "Amason_sales_data[\"Status\"].value_counts()"
   ]
  },
  {
   "cell_type": "code",
   "execution_count": 119,
   "id": "10c33977-0bf3-404c-8059-8f84dc97c893",
   "metadata": {
    "slideshow": {
     "slide_type": "subslide"
    }
   },
   "outputs": [
    {
     "data": {
      "image/png": "[encoded data removed]",
      "text/plain": [
       "<Figure size 600x500 with 1 Axes>"
      ]
     },
     "metadata": {},
     "output_type": "display_data"
    }
   ],
   "source": [
    "Amason_sales_data[\"Status\"].value_counts().plot(kind = \"bar\",figsize=(6,5),color =\"skyblue\")\n",
    "plt.xlabel(\"Order Status\")\n",
    "plt.ylabel(\"Number of Counts\")\n",
    "plt.title(\"Order Status Diatribution\")\n",
    "plt.tight_layout()\n",
    "plt.show()"
   ]
  },
  {
   "cell_type": "code",
   "execution_count": null,
   "id": "b788b94d-c198-4daf-8c38-6ac2334ee861",
   "metadata": {
    "slideshow": {
     "slide_type": "slide"
    }
   },
   "outputs": [],
   "source": [
    "### Statistical Insights with scipy and statsmodels"
   ]
  },
  {
   "cell_type": "code",
   "execution_count": 246,
   "id": "04e69f9b-f035-49ec-8347-fc87e6c6e28a",
   "metadata": {
    "slideshow": {
     "slide_type": "subslide"
    }
   },
   "outputs": [],
   "source": [
    "import pandas as pd "
   ]
  },
  {
   "cell_type": "code",
   "execution_count": 248,
   "id": "ca9628e9-844f-4262-bb86-204d61c7be84",
   "metadata": {
    "slideshow": {
     "slide_type": "subslide"
    }
   },
   "outputs": [],
   "source": [
    "import seaborn as sns"
   ]
  },
  {
   "cell_type": "code",
   "execution_count": 250,
   "id": "be735156-d5b6-4718-9e01-e01cc070dc8f",
   "metadata": {
    "slideshow": {
     "slide_type": "subslide"
    }
   },
   "outputs": [],
   "source": [
    "import matplotlib.pyplot as plt"
   ]
  },
  {
   "cell_type": "code",
   "execution_count": null,
   "id": "dd305c5c-e914-4c91-bc3c-2fa4f86944d4",
   "metadata": {
    "slideshow": {
     "slide_type": "subslide"
    }
   },
   "outputs": [],
   "source": [
    "### correlation Matrix"
   ]
  },
  {
   "cell_type": "code",
   "execution_count": 252,
   "id": "f077e28b-5a4e-4dea-8cf8-d0d21c95815c",
   "metadata": {
    "slideshow": {
     "slide_type": "subslide"
    }
   },
   "outputs": [],
   "source": [
    "cor = Amason_sales_data[[\"Price\", \"Quantity\", \"Total_Sales\"]].corr()"
   ]
  },
  {
   "cell_type": "code",
   "execution_count": 254,
   "id": "436f4119-827d-44bf-9c3b-2b4567a410c6",
   "metadata": {
    "slideshow": {
     "slide_type": "subslide"
    }
   },
   "outputs": [
    {
     "data": {
      "text/html": [
       "<div>\n",
       "<style scoped>\n",
       "    .dataframe tbody tr th:only-of-type {\n",
       "        vertical-align: middle;\n",
       "    }\n",
       "\n",
       "    .dataframe tbody tr th {\n",
       "        vertical-align: top;\n",
       "    }\n",
       "\n",
       "    .dataframe thead th {\n",
       "        text-align: right;\n",
       "    }\n",
       "</style>\n",
       "<table border=\"1\" class=\"dataframe\">\n",
       "  <thead>\n",
       "    <tr style=\"text-align: right;\">\n",
       "      <th></th>\n",
       "      <th>Price</th>\n",
       "      <th>Quantity</th>\n",
       "      <th>Total_Sales</th>\n",
       "    </tr>\n",
       "  </thead>\n",
       "  <tbody>\n",
       "    <tr>\n",
       "      <th>Price</th>\n",
       "      <td>1.000000</td>\n",
       "      <td>-0.010858</td>\n",
       "      <td>0.846673</td>\n",
       "    </tr>\n",
       "    <tr>\n",
       "      <th>Quantity</th>\n",
       "      <td>-0.010858</td>\n",
       "      <td>1.000000</td>\n",
       "      <td>0.332444</td>\n",
       "    </tr>\n",
       "    <tr>\n",
       "      <th>Total_Sales</th>\n",
       "      <td>0.846673</td>\n",
       "      <td>0.332444</td>\n",
       "      <td>1.000000</td>\n",
       "    </tr>\n",
       "  </tbody>\n",
       "</table>\n",
       "</div>"
      ],
      "text/plain": [
       "                Price  Quantity  Total_Sales\n",
       "Price        1.000000 -0.010858     0.846673\n",
       "Quantity    -0.010858  1.000000     0.332444\n",
       "Total_Sales  0.846673  0.332444     1.000000"
      ]
     },
     "execution_count": 254,
     "metadata": {},
     "output_type": "execute_result"
    }
   ],
   "source": [
    "cor"
   ]
  },
  {
   "cell_type": "markdown",
   "id": "cb7c5bc2-a250-4a9a-bd6a-2604d9176217",
   "metadata": {
    "slideshow": {
     "slide_type": "subslide"
    }
   },
   "source": [
    "# +1 = Perfect Positive Correlation,As price        increases, total sales also tend  # to increas.      logical, because Total_Sales = Price × Quantity\n",
    "\n",
    "# 0 = No Correlation\n",
    "\n",
    "# –1 = Perfect Negative Correlation\n",
    "\n",
    "# Price and Quantity aren't related\tA product's      price doesn't influence how many are bought      in this dataset"
   ]
  },
  {
   "cell_type": "code",
   "execution_count": null,
   "id": "88fe1527-2908-4034-9e20-e268ef08a483",
   "metadata": {
    "slideshow": {
     "slide_type": "subslide"
    }
   },
   "outputs": [],
   "source": [
    "#In this data, Total Sales depends more on Price than Quantity, and Price doesn’t affect Quantity bought."
   ]
  },
  {
   "cell_type": "code",
   "execution_count": null,
   "id": "c0bc4984-17a3-443a-b455-b7df967f74cb",
   "metadata": {
    "slideshow": {
     "slide_type": "subslide"
    }
   },
   "outputs": [],
   "source": [
    "# by heat map we can see clearly"
   ]
  },
  {
   "cell_type": "code",
   "execution_count": 256,
   "id": "9841df9f-3f31-49cc-962f-492a533751bc",
   "metadata": {
    "scrolled": true,
    "slideshow": {
     "slide_type": "subslide"
    }
   },
   "outputs": [
    {
     "data": {
      "image/png": "[encoded data removed]",
      "text/plain": [
       "<Figure size 640x480 with 2 Axes>"
      ]
     },
     "metadata": {},
     "output_type": "display_data"
    }
   ],
   "source": [
    "sns.heatmap(cor,annot=True,cmap=\"coolwarm\") #  annot=True   This means annotate the cells — display the numeric values (correlation coefficients) inside each box.\n",
    "plt.title(\"Correlation Heatmap\")\n",
    "plt.show()"
   ]
  },
  {
   "cell_type": "code",
   "execution_count": null,
   "id": "63eedf25-4bb9-4190-a1a5-79313b7e98aa",
   "metadata": {
    "slideshow": {
     "slide_type": "slide"
    }
   },
   "outputs": [],
   "source": [
    "# ANOVA: Are Total Sales significantly different between categories?"
   ]
  },
  {
   "cell_type": "code",
   "execution_count": 258,
   "id": "7b1b8814-efc5-4ce2-9a3c-be212022428e",
   "metadata": {
    "slideshow": {
     "slide_type": "subslide"
    }
   },
   "outputs": [],
   "source": [
    "from scipy import stats"
   ]
  },
  {
   "cell_type": "code",
   "execution_count": null,
   "id": "2a6891ce-1800-46c3-a2c8-a4021dff2930",
   "metadata": {
    "slideshow": {
     "slide_type": "subslide"
    }
   },
   "outputs": [],
   "source": [
    "# Grouping sales by category"
   ]
  },
  {
   "cell_type": "code",
   "execution_count": 260,
   "id": "5ae0490c-2d8d-4c0e-a51f-6b6484b01bfe",
   "metadata": {
    "slideshow": {
     "slide_type": "subslide"
    }
   },
   "outputs": [
    {
     "data": {
      "text/plain": [
       "Index(['Order_ID', 'Order_Date', 'Product', 'Category', 'Price', 'Quantity',\n",
       "       'Total_Sales', 'Customer_Name', 'Customer_Location', 'Payment_Method',\n",
       "       'Status'],\n",
       "      dtype='object')"
      ]
     },
     "execution_count": 260,
     "metadata": {},
     "output_type": "execute_result"
    }
   ],
   "source": [
    "Amason_sales_data.columns"
   ]
  },
  {
   "cell_type": "code",
   "execution_count": 264,
   "id": "78ac764f-5ab0-442a-b7bd-db3422bc864c",
   "metadata": {
    "slideshow": {
     "slide_type": "subslide"
    }
   },
   "outputs": [],
   "source": [
    "sales_category = [group[\"Total_Sales\"].values for name,group in Amason_sales_data.groupby(\"Category\")]"
   ]
  },
  {
   "cell_type": "code",
   "execution_count": 266,
   "id": "c50a0495-795d-4aff-b717-6c5b3f698a55",
   "metadata": {
    "slideshow": {
     "slide_type": "subslide"
    }
   },
   "outputs": [
    {
     "data": {
      "text/plain": [
       "[array([30, 15, 75, 15, 15, 15, 75, 45, 15, 75, 75, 75, 45, 15, 60, 15, 15,\n",
       "        15, 75, 75, 15, 75, 30, 60, 15], dtype=int64),\n",
       " array([ 20,  60, 160,  20,  20, 100,  80,  40, 100, 120,  80, 100, 200,\n",
       "         40, 200,  40,  60, 120, 200,  20,  60, 200,  80,  20,  80,  40,\n",
       "        200,  40, 100,  20, 160, 160, 200,  80,  80,  80,  40,  40,  40,\n",
       "         40], dtype=int64),\n",
       " array([ 400,  450,  600,  500,  500, 1600,  600, 1000,  400,  300,  100,\n",
       "         500,  500, 2000, 2400,  300, 2400, 1600,  150,  300,  150, 2000,\n",
       "        2400,  450,  300,  500,  500,  300, 4000, 2500,  300,  300,  100,\n",
       "         750, 2400, 2500,  200,  200,  300,  300, 1500, 2500,  750,  750,\n",
       "        3200, 1000,  600,  450,  300, 1000,  200, 2500, 3200, 3200,  500,\n",
       "        1000, 4000,  500, 2400,  500,  300,  750, 1000,  800, 2500,  450,\n",
       "         750, 1600,  300, 1000, 1500,  300,  300,  400,  150,  750,  200,\n",
       "         600, 1500, 2400,  100, 1000,  750, 4000,  800,  300,  300, 1500,\n",
       "        2400, 2400,  300, 1500,  500, 3200, 1500, 1000,  200, 2400,  500,\n",
       "         800,  750,  400,  300,  450,  500,  400, 4000, 2500,  300,  100,\n",
       "         750,  150, 2000, 2000, 2000,  800,  450, 2000], dtype=int64),\n",
       " array([180, 120, 180, 180, 120, 240, 120, 240, 300, 300,  60,  60, 180,\n",
       "        300, 180, 120, 120,  60, 120, 300,  60, 120, 240,  60, 180,  60,\n",
       "        120], dtype=int64),\n",
       " array([1800, 1200, 4800, 3600,  600, 1800, 2400, 3600, 1200, 4800, 4800,\n",
       "        4800,  600, 2400, 2400, 6000, 3000, 1200, 6000, 2400, 2400, 2400,\n",
       "        4800, 1800, 2400, 2400, 2400, 1200, 3600,  600, 2400, 3600, 3000,\n",
       "         600, 3600, 1200, 1200, 1200, 3600, 1200], dtype=int64)]"
      ]
     },
     "execution_count": 266,
     "metadata": {},
     "output_type": "execute_result"
    }
   ],
   "source": [
    "sales_category"
   ]
  },
  {
   "cell_type": "code",
   "execution_count": 270,
   "id": "9e09a018-8439-40ed-83d8-59280e92965a",
   "metadata": {
    "slideshow": {
     "slide_type": "subslide"
    }
   },
   "outputs": [],
   "source": [
    "f_stat,p_val = stats.f_oneway(*sales_category)      # Or anova_result = stats.f_oneway(*category_groups)\n",
    "                                                    # print(\"ANOVA F-statistic:\", anova_result.statistic)\n",
    "                                                    # print(\"ANOVA p-value:\", anova_result.pvalue)"
   ]
  },
  {
   "cell_type": "code",
   "execution_count": 276,
   "id": "75cddded-6deb-48e2-91c6-583c8a744a9c",
   "metadata": {
    "slideshow": {
     "slide_type": "subslide"
    }
   },
   "outputs": [
    {
     "name": "stdout",
     "output_type": "stream",
     "text": [
      "f_statistics: 53.463921351737696\n",
      "p_value: 2.4079237572585064e-32\n"
     ]
    }
   ],
   "source": [
    "print(\"f_statistics:\",f_stat)\n",
    "print(\"p_value:\",p_val)"
   ]
  },
  {
   "cell_type": "code",
   "execution_count": 294,
   "id": "ac62bc8f-73c8-447d-a4d3-b1504c599d8e",
   "metadata": {
    "scrolled": true,
    "slideshow": {
     "slide_type": "subslide"
    }
   },
   "outputs": [
    {
     "name": "stdout",
     "output_type": "stream",
     "text": [
      "Significant difference found between categories.\n"
     ]
    }
   ],
   "source": [
    "if p_val<0.05:\n",
    "    print(\"Significant difference found between categories.\")\n",
    "else:\n",
    "    print(\"no Significant difference found between categories.\")\n",
    "\n"
   ]
  },
  {
   "cell_type": "code",
   "execution_count": 317,
   "id": "55735fe4-8a64-41df-b9f9-b131d94b75f7",
   "metadata": {
    "slideshow": {
     "slide_type": "slide"
    }
   },
   "outputs": [],
   "source": [
    "import statsmodels.api as sm"
   ]
  },
  {
   "cell_type": "code",
   "execution_count": 319,
   "id": "ff73c37f-3c33-4cab-9d74-fbd95493bb03",
   "metadata": {
    "slideshow": {
     "slide_type": "subslide"
    }
   },
   "outputs": [],
   "source": [
    " #  Linear Regression: Predict Total Sales using Price & Quantity\n"
   ]
  },
  {
   "cell_type": "code",
   "execution_count": null,
   "id": "150a8625-6abd-48dd-ad7a-bf046dfd6ba5",
   "metadata": {
    "slideshow": {
     "slide_type": "subslide"
    }
   },
   "outputs": [],
   "source": [
    "# Predicting sales from price and quantity linear Regression is useful"
   ]
  },
  {
   "cell_type": "code",
   "execution_count": 321,
   "id": "a7b7cb85-a47c-48f3-bd05-48142da029c7",
   "metadata": {
    "slideshow": {
     "slide_type": "subslide"
    }
   },
   "outputs": [],
   "source": [
    "X = Amason_sales_data[[\"Price\",\"Quantity\"]]"
   ]
  },
  {
   "cell_type": "code",
   "execution_count": 323,
   "id": "f03bb996-b953-4fd2-9dfa-11db19cacb5d",
   "metadata": {
    "slideshow": {
     "slide_type": "subslide"
    }
   },
   "outputs": [],
   "source": [
    "Y = Amason_sales_data[\"Total_Sales\"]"
   ]
  },
  {
   "cell_type": "code",
   "execution_count": 327,
   "id": "e2fe4de8-0c1a-4aef-b415-73cd338e094e",
   "metadata": {
    "slideshow": {
     "slide_type": "subslide"
    }
   },
   "outputs": [],
   "source": [
    "X = sm.add_constant(X) ## Add Constant(intercept)"
   ]
  },
  {
   "cell_type": "code",
   "execution_count": 329,
   "id": "a2580571-a53a-4d8c-a8d7-19f7a52f313d",
   "metadata": {
    "slideshow": {
     "slide_type": "subslide"
    }
   },
   "outputs": [],
   "source": [
    "model = sm.OLS(Y,X).fit()"
   ]
  },
  {
   "cell_type": "code",
   "execution_count": 331,
   "id": "4fa89f9d-1f85-4422-8573-2d11e859cc22",
   "metadata": {
    "slideshow": {
     "slide_type": "subslide"
    }
   },
   "outputs": [
    {
     "name": "stdout",
     "output_type": "stream",
     "text": [
      "                            OLS Regression Results                            \n",
      "==============================================================================\n",
      "Dep. Variable:            Total_Sales   R-squared:                       0.834\n",
      "Model:                            OLS   Adj. R-squared:                  0.832\n",
      "Method:                 Least Squares   F-statistic:                     618.6\n",
      "Date:                Fri, 30 May 2025   Prob (F-statistic):           6.56e-97\n",
      "Time:                        21:43:36   Log-Likelihood:                -1913.2\n",
      "No. Observations:                 250   AIC:                             3832.\n",
      "Df Residuals:                     247   BIC:                             3843.\n",
      "Df Model:                           2                                         \n",
      "Covariance Type:            nonrobust                                         \n",
      "==============================================================================\n",
      "                 coef    std err          t      P>|t|      [0.025      0.975]\n",
      "------------------------------------------------------------------------------\n",
      "const       -840.4835     78.556    -10.699      0.000    -995.208    -685.759\n",
      "Price          2.7974      0.085     32.760      0.000       2.629       2.966\n",
      "Quantity     299.2809     22.737     13.163      0.000     254.498     344.064\n",
      "==============================================================================\n",
      "Omnibus:                       17.219   Durbin-Watson:                   2.259\n",
      "Prob(Omnibus):                  0.000   Jarque-Bera (JB):               53.569\n",
      "Skew:                           0.018   Prob(JB):                     2.33e-12\n",
      "Kurtosis:                       5.267   Cond. No.                     1.28e+03\n",
      "==============================================================================\n",
      "\n",
      "Notes:\n",
      "[1] Standard Errors assume that the covariance matrix of the errors is correctly specified.\n",
      "[2] The condition number is large, 1.28e+03. This might indicate that there are\n",
      "strong multicollinearity or other numerical problems.\n"
     ]
    }
   ],
   "source": [
    "print(model.summary())"
   ]
  },
  {
   "cell_type": "code",
   "execution_count": null,
   "id": "a11cbdb5-ede7-43b5-8fb6-39e1d119d200",
   "metadata": {
    "slideshow": {
     "slide_type": "subslide"
    }
   },
   "outputs": [],
   "source": [
    "#I used linear regression to predict Total Sales based on Price and Quantity. \n",
    "#The model had high accuracy (R² = 0.834), \n",
    "# showing that these two features strongly influence sales. \n",
    "# I used statsmodels in Python to find this and both variables were statistically significant."
   ]
  }
 ],
 "metadata": {
  "celltoolbar": "Slideshow",
  "kernelspec": {
   "display_name": "Python 3 (ipykernel)",
   "language": "python",
   "name": "python3"
  },
  "language_info": {
   "codemirror_mode": {
    "name": "ipython",
    "version": 3
   },
   "file_extension": ".py",
   "mimetype": "text/x-python",
   "name": "python",
   "nbconvert_exporter": "python",
   "pygments_lexer": "ipython3",
   "version": "3.12.7"
  }
 },
 "nbformat": 4,
 "nbformat_minor": 5
}
